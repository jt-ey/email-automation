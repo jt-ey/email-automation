{
 "cells": [
  {
   "cell_type": "code",
   "execution_count": 3,
   "id": "30647937-828a-4045-affd-17e289627edc",
   "metadata": {},
   "outputs": [],
   "source": [
    "import pandas as pd\n",
    "import win32com.client as win32\n",
    "import json\n",
    "import re\n",
    "import os \n",
    "\n",
    "PATH = os.getcwd()"
   ]
  },
  {
   "cell_type": "code",
   "execution_count": 4,
   "id": "54889ed1-f91b-4671-9260-9315417df138",
   "metadata": {},
   "outputs": [],
   "source": [
    "workbook_name = '\\sample.xlsx' # Name of your excel file, in current working dir\n",
    "df = pd.read_excel(PATH+workbook_name)"
   ]
  },
  {
   "cell_type": "code",
   "execution_count": 5,
   "id": "a398aafe-b8cd-44de-abb2-bd75c66e9f14",
   "metadata": {},
   "outputs": [],
   "source": [
    "def create_mail(text, recipient_name, data, subject, recipient_email, attachment = False,send=False,):\n",
    "    \"\"\"\n",
    "    @params:\n",
    "    \"\"\"\n",
    "    outlook = win32.Dispatch('outlook.application')\n",
    "    mail = outlook.CreateItem(0)\n",
    "    mail.To = recipient_email\n",
    "    mail.CC = 'janelle.tang@au.ey.com'\n",
    "    mail.Subject = subject\n",
    "    recipient_name = recipient_name.replace('-',' ').title() \n",
    "    text = text.replace('{name}',recipient_name) # Add name to Email body\n",
    "    \n",
    "    if attachment:\n",
    "        attachment_path = PATH+r'\\attachments\\{}'.format(data)\n",
    "        mail.HtmlBody = text.replace('{name}',recipient_name)\n",
    "        mail.Attachments.Add(attachment_path)\n",
    "    else:\n",
    "        data = data.style.set_properties(**{'background-color': '#ffffbf'}, subset=['Service Account Still Required? (Y/N)',\n",
    "                                             'Updated Owner Name',\n",
    "                                             'Remarks (if any)']).hide_index().render(index=False)\n",
    "        \n",
    "        ## Remove Null values\n",
    "        data = data.replace('nan','')\n",
    "        \n",
    "        ## Styling\n",
    "        data = data.replace('<table','<table border = 1 class=\"dataframe\"')\n",
    "        \n",
    "        mail.HtmlBody = text.replace('{table}',data)\n",
    "\n",
    "    if send:\n",
    "        mail.send()\n",
    "    else:\n",
    "        mail.save()\n",
    "\n",
    "def get_email_content(attachment,email_type):\n",
    "    if attachment:\n",
    "        d = text_dict[email_type]['attachment']\n",
    "    else:\n",
    "        d = text_dict[email_type]['no-attachment']\n",
    "    body = d['body']\n",
    "    subject = d['subject']\n",
    "    return body, subject"
   ]
  },
  {
   "cell_type": "markdown",
   "id": "a5175c16-2f92-4bae-9bdf-366d56271887",
   "metadata": {},
   "source": [
    "Just a note - <br/><br/> I have kept the <b>attachments</b> in an attachment folder in the current working directory. "
   ]
  },
  {
   "cell_type": "code",
   "execution_count": 6,
   "id": "7d66a482-dcde-4f09-bf12-fb5e9d46a27d",
   "metadata": {},
   "outputs": [],
   "source": [
    "## Loads email body text as a dictionary\n",
    "with open('email_text.json') as f:\n",
    "    text_dict = json.load(f)\n",
    "\n",
    "email_list = df.Email.unique().tolist()\n",
    "for email in email_list:\n",
    "    data = df[df.Email == email] # Select all rows in data to be sent to this person\n",
    "    name = email.split(\"@\")[0].replace(\".\",\"-\") # Get name from email address\n",
    "    \n",
    "    \n",
    "    email_type_list = data.Type.unique()\n",
    "    for email_type in email_type_list: # Split the types of emails to send (types of Orphan Accounts)\n",
    "        table = data[data.Type == email_type][['Domain',\n",
    "                                             'SamAccountName',\n",
    "                                             'DisplayName',\n",
    "                                             'Description',\n",
    "                                             'Previous Owner employee ID',\n",
    "                                             'Previous Owner Name',\n",
    "                                             'Service Account Still Required? (Y/N)',\n",
    "                                             'Updated Owner Name',\n",
    "                                             'Remarks (if any)']]\n",
    "        n_rows = table.shape[0]\n",
    "        if n_rows > 5:\n",
    "            \"\"\"\n",
    "            If more than 5 rows, create an attachment file\n",
    "            \"\"\"\n",
    "            \n",
    "            body, subject = get_email_content(True,email_type)\n",
    "            \n",
    "            ## name of attachment\n",
    "            attachment_name = \"{}_{}.xlsx\".format(email_type,name)\n",
    "            table.to_excel('attachments/{}'.format(attachment_name))\n",
    "            create_mail(body,name, attachment_name, subject, email, attachment = True)\n",
    "            \n",
    "        elif n_rows > 0:\n",
    "            \"\"\"\n",
    "            Otherwise, just keep it as a table\n",
    "            \"\"\"\n",
    "            body, subject = get_email_content(False,email_type)\n",
    "            create_mail(body, name,table, subject, email)\n",
    "\n",
    "\n",
    "    "
   ]
  },
  {
   "cell_type": "code",
   "execution_count": null,
   "id": "793e3df4-5eed-4779-ab43-1c18ee0d9f36",
   "metadata": {},
   "outputs": [],
   "source": []
  },
  {
   "cell_type": "code",
   "execution_count": null,
   "id": "a6cea083-377a-4c76-ad0e-9a7eacf6b959",
   "metadata": {},
   "outputs": [],
   "source": []
  },
  {
   "cell_type": "code",
   "execution_count": null,
   "id": "bf053faf-43b2-4e9e-b3d1-0a39c3f205dc",
   "metadata": {},
   "outputs": [],
   "source": []
  },
  {
   "cell_type": "code",
   "execution_count": null,
   "id": "0c26860e-d0df-4f9a-9497-10af13e9c3ce",
   "metadata": {},
   "outputs": [],
   "source": []
  },
  {
   "cell_type": "code",
   "execution_count": null,
   "id": "d1afe396-fe42-4951-8361-8d556d9d4128",
   "metadata": {},
   "outputs": [],
   "source": []
  }
 ],
 "metadata": {
  "kernelspec": {
   "display_name": "Python 3",
   "language": "python",
   "name": "python3"
  },
  "language_info": {
   "codemirror_mode": {
    "name": "ipython",
    "version": 3
   },
   "file_extension": ".py",
   "mimetype": "text/x-python",
   "name": "python",
   "nbconvert_exporter": "python",
   "pygments_lexer": "ipython3",
   "version": "3.8.8"
  }
 },
 "nbformat": 4,
 "nbformat_minor": 5
}
